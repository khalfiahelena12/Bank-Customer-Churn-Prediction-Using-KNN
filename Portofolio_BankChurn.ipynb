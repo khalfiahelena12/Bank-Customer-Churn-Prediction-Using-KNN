{
  "cells": [
    {
      "cell_type": "code",
      "execution_count": 1,
      "id": "afa2cb8f",
      "metadata": {
        "id": "afa2cb8f"
      },
      "outputs": [],
      "source": [
        "import pandas as pd\n",
        "import numpy as np\n",
        "from sklearn.preprocessing import LabelEncoder\n",
        "import datetime\n",
        "from datetime import datetime\n",
        "\n",
        "from sklearn.model_selection import train_test_split\n",
        "from sklearn.ensemble import RandomForestClassifier\n",
        "from sklearn.metrics import accuracy_score\n",
        "from sklearn.metrics import classification_report\n",
        "from sklearn.metrics import confusion_matrix\n",
        "\n",
        "import matplotlib.pyplot as plt\n",
        "from sklearn.metrics import plot_roc_curve\n",
        "from sklearn.metrics import roc_auc_score\n",
        "\n",
        "from collections import Counter\n",
        "from imblearn.under_sampling import RandomUnderSampler\n",
        "import warnings\n",
        "warnings.simplefilter(action='ignore', category=FutureWarning)\n",
        "\n",
        "from collections import Counter\n",
        "from imblearn.over_sampling import SMOTE\n",
        "from imblearn.pipeline import Pipeline\n",
        "\n",
        "from sklearn.metrics import accuracy_score\n",
        "from sklearn.metrics import precision_score\n",
        "from sklearn.metrics import recall_score\n",
        "from sklearn.metrics import f1_score"
      ]
    },
    {
      "cell_type": "code",
      "source": [
        "from sklearn.metrics import accuracy_score, confusion_matrix, classification_report\n",
        "from yellowbrick.classifier import ConfusionMatrix"
      ],
      "metadata": {
        "id": "rYmIDazGOt4K"
      },
      "id": "rYmIDazGOt4K",
      "execution_count": 2,
      "outputs": []
    },
    {
      "cell_type": "markdown",
      "source": [
        "# Load Data"
      ],
      "metadata": {
        "id": "9Z8RNvWddYir"
      },
      "id": "9Z8RNvWddYir"
    },
    {
      "cell_type": "code",
      "execution_count": 3,
      "id": "c52f96a7",
      "metadata": {
        "id": "c52f96a7",
        "colab": {
          "base_uri": "https://localhost:8080/",
          "height": 488
        },
        "outputId": "2107c64d-2f56-4e1a-aead-6971cdb2a1da"
      },
      "outputs": [
        {
          "output_type": "execute_result",
          "data": {
            "text/plain": [
              "      customer_id  credit_score  country  gender  age  tenure    balance  \\\n",
              "0        15634602           619   France  Female   42       2       0.00   \n",
              "1        15647311           608    Spain  Female   41       1   83807.86   \n",
              "2        15619304           502   France  Female   42       8  159660.80   \n",
              "3        15701354           699   France  Female   39       1       0.00   \n",
              "4        15737888           850    Spain  Female   43       2  125510.82   \n",
              "...           ...           ...      ...     ...  ...     ...        ...   \n",
              "9995     15606229           771   France    Male   39       5       0.00   \n",
              "9996     15569892           516   France    Male   35      10   57369.61   \n",
              "9997     15584532           709   France  Female   36       7       0.00   \n",
              "9998     15682355           772  Germany    Male   42       3   75075.31   \n",
              "9999     15628319           792   France  Female   28       4  130142.79   \n",
              "\n",
              "      products_number  credit_card  active_member  estimated_salary  churn  \n",
              "0                   1            1              1         101348.88      1  \n",
              "1                   1            0              1         112542.58      0  \n",
              "2                   3            1              0         113931.57      1  \n",
              "3                   2            0              0          93826.63      0  \n",
              "4                   1            1              1          79084.10      0  \n",
              "...               ...          ...            ...               ...    ...  \n",
              "9995                2            1              0          96270.64      0  \n",
              "9996                1            1              1         101699.77      0  \n",
              "9997                1            0              1          42085.58      1  \n",
              "9998                2            1              0          92888.52      1  \n",
              "9999                1            1              0          38190.78      0  \n",
              "\n",
              "[10000 rows x 12 columns]"
            ],
            "text/html": [
              "\n",
              "  <div id=\"df-db4dca2f-db19-4941-b9c3-f2dd09995c76\">\n",
              "    <div class=\"colab-df-container\">\n",
              "      <div>\n",
              "<style scoped>\n",
              "    .dataframe tbody tr th:only-of-type {\n",
              "        vertical-align: middle;\n",
              "    }\n",
              "\n",
              "    .dataframe tbody tr th {\n",
              "        vertical-align: top;\n",
              "    }\n",
              "\n",
              "    .dataframe thead th {\n",
              "        text-align: right;\n",
              "    }\n",
              "</style>\n",
              "<table border=\"1\" class=\"dataframe\">\n",
              "  <thead>\n",
              "    <tr style=\"text-align: right;\">\n",
              "      <th></th>\n",
              "      <th>customer_id</th>\n",
              "      <th>credit_score</th>\n",
              "      <th>country</th>\n",
              "      <th>gender</th>\n",
              "      <th>age</th>\n",
              "      <th>tenure</th>\n",
              "      <th>balance</th>\n",
              "      <th>products_number</th>\n",
              "      <th>credit_card</th>\n",
              "      <th>active_member</th>\n",
              "      <th>estimated_salary</th>\n",
              "      <th>churn</th>\n",
              "    </tr>\n",
              "  </thead>\n",
              "  <tbody>\n",
              "    <tr>\n",
              "      <th>0</th>\n",
              "      <td>15634602</td>\n",
              "      <td>619</td>\n",
              "      <td>France</td>\n",
              "      <td>Female</td>\n",
              "      <td>42</td>\n",
              "      <td>2</td>\n",
              "      <td>0.00</td>\n",
              "      <td>1</td>\n",
              "      <td>1</td>\n",
              "      <td>1</td>\n",
              "      <td>101348.88</td>\n",
              "      <td>1</td>\n",
              "    </tr>\n",
              "    <tr>\n",
              "      <th>1</th>\n",
              "      <td>15647311</td>\n",
              "      <td>608</td>\n",
              "      <td>Spain</td>\n",
              "      <td>Female</td>\n",
              "      <td>41</td>\n",
              "      <td>1</td>\n",
              "      <td>83807.86</td>\n",
              "      <td>1</td>\n",
              "      <td>0</td>\n",
              "      <td>1</td>\n",
              "      <td>112542.58</td>\n",
              "      <td>0</td>\n",
              "    </tr>\n",
              "    <tr>\n",
              "      <th>2</th>\n",
              "      <td>15619304</td>\n",
              "      <td>502</td>\n",
              "      <td>France</td>\n",
              "      <td>Female</td>\n",
              "      <td>42</td>\n",
              "      <td>8</td>\n",
              "      <td>159660.80</td>\n",
              "      <td>3</td>\n",
              "      <td>1</td>\n",
              "      <td>0</td>\n",
              "      <td>113931.57</td>\n",
              "      <td>1</td>\n",
              "    </tr>\n",
              "    <tr>\n",
              "      <th>3</th>\n",
              "      <td>15701354</td>\n",
              "      <td>699</td>\n",
              "      <td>France</td>\n",
              "      <td>Female</td>\n",
              "      <td>39</td>\n",
              "      <td>1</td>\n",
              "      <td>0.00</td>\n",
              "      <td>2</td>\n",
              "      <td>0</td>\n",
              "      <td>0</td>\n",
              "      <td>93826.63</td>\n",
              "      <td>0</td>\n",
              "    </tr>\n",
              "    <tr>\n",
              "      <th>4</th>\n",
              "      <td>15737888</td>\n",
              "      <td>850</td>\n",
              "      <td>Spain</td>\n",
              "      <td>Female</td>\n",
              "      <td>43</td>\n",
              "      <td>2</td>\n",
              "      <td>125510.82</td>\n",
              "      <td>1</td>\n",
              "      <td>1</td>\n",
              "      <td>1</td>\n",
              "      <td>79084.10</td>\n",
              "      <td>0</td>\n",
              "    </tr>\n",
              "    <tr>\n",
              "      <th>...</th>\n",
              "      <td>...</td>\n",
              "      <td>...</td>\n",
              "      <td>...</td>\n",
              "      <td>...</td>\n",
              "      <td>...</td>\n",
              "      <td>...</td>\n",
              "      <td>...</td>\n",
              "      <td>...</td>\n",
              "      <td>...</td>\n",
              "      <td>...</td>\n",
              "      <td>...</td>\n",
              "      <td>...</td>\n",
              "    </tr>\n",
              "    <tr>\n",
              "      <th>9995</th>\n",
              "      <td>15606229</td>\n",
              "      <td>771</td>\n",
              "      <td>France</td>\n",
              "      <td>Male</td>\n",
              "      <td>39</td>\n",
              "      <td>5</td>\n",
              "      <td>0.00</td>\n",
              "      <td>2</td>\n",
              "      <td>1</td>\n",
              "      <td>0</td>\n",
              "      <td>96270.64</td>\n",
              "      <td>0</td>\n",
              "    </tr>\n",
              "    <tr>\n",
              "      <th>9996</th>\n",
              "      <td>15569892</td>\n",
              "      <td>516</td>\n",
              "      <td>France</td>\n",
              "      <td>Male</td>\n",
              "      <td>35</td>\n",
              "      <td>10</td>\n",
              "      <td>57369.61</td>\n",
              "      <td>1</td>\n",
              "      <td>1</td>\n",
              "      <td>1</td>\n",
              "      <td>101699.77</td>\n",
              "      <td>0</td>\n",
              "    </tr>\n",
              "    <tr>\n",
              "      <th>9997</th>\n",
              "      <td>15584532</td>\n",
              "      <td>709</td>\n",
              "      <td>France</td>\n",
              "      <td>Female</td>\n",
              "      <td>36</td>\n",
              "      <td>7</td>\n",
              "      <td>0.00</td>\n",
              "      <td>1</td>\n",
              "      <td>0</td>\n",
              "      <td>1</td>\n",
              "      <td>42085.58</td>\n",
              "      <td>1</td>\n",
              "    </tr>\n",
              "    <tr>\n",
              "      <th>9998</th>\n",
              "      <td>15682355</td>\n",
              "      <td>772</td>\n",
              "      <td>Germany</td>\n",
              "      <td>Male</td>\n",
              "      <td>42</td>\n",
              "      <td>3</td>\n",
              "      <td>75075.31</td>\n",
              "      <td>2</td>\n",
              "      <td>1</td>\n",
              "      <td>0</td>\n",
              "      <td>92888.52</td>\n",
              "      <td>1</td>\n",
              "    </tr>\n",
              "    <tr>\n",
              "      <th>9999</th>\n",
              "      <td>15628319</td>\n",
              "      <td>792</td>\n",
              "      <td>France</td>\n",
              "      <td>Female</td>\n",
              "      <td>28</td>\n",
              "      <td>4</td>\n",
              "      <td>130142.79</td>\n",
              "      <td>1</td>\n",
              "      <td>1</td>\n",
              "      <td>0</td>\n",
              "      <td>38190.78</td>\n",
              "      <td>0</td>\n",
              "    </tr>\n",
              "  </tbody>\n",
              "</table>\n",
              "<p>10000 rows × 12 columns</p>\n",
              "</div>\n",
              "      <button class=\"colab-df-convert\" onclick=\"convertToInteractive('df-db4dca2f-db19-4941-b9c3-f2dd09995c76')\"\n",
              "              title=\"Convert this dataframe to an interactive table.\"\n",
              "              style=\"display:none;\">\n",
              "        \n",
              "  <svg xmlns=\"http://www.w3.org/2000/svg\" height=\"24px\"viewBox=\"0 0 24 24\"\n",
              "       width=\"24px\">\n",
              "    <path d=\"M0 0h24v24H0V0z\" fill=\"none\"/>\n",
              "    <path d=\"M18.56 5.44l.94 2.06.94-2.06 2.06-.94-2.06-.94-.94-2.06-.94 2.06-2.06.94zm-11 1L8.5 8.5l.94-2.06 2.06-.94-2.06-.94L8.5 2.5l-.94 2.06-2.06.94zm10 10l.94 2.06.94-2.06 2.06-.94-2.06-.94-.94-2.06-.94 2.06-2.06.94z\"/><path d=\"M17.41 7.96l-1.37-1.37c-.4-.4-.92-.59-1.43-.59-.52 0-1.04.2-1.43.59L10.3 9.45l-7.72 7.72c-.78.78-.78 2.05 0 2.83L4 21.41c.39.39.9.59 1.41.59.51 0 1.02-.2 1.41-.59l7.78-7.78 2.81-2.81c.8-.78.8-2.07 0-2.86zM5.41 20L4 18.59l7.72-7.72 1.47 1.35L5.41 20z\"/>\n",
              "  </svg>\n",
              "      </button>\n",
              "      \n",
              "  <style>\n",
              "    .colab-df-container {\n",
              "      display:flex;\n",
              "      flex-wrap:wrap;\n",
              "      gap: 12px;\n",
              "    }\n",
              "\n",
              "    .colab-df-convert {\n",
              "      background-color: #E8F0FE;\n",
              "      border: none;\n",
              "      border-radius: 50%;\n",
              "      cursor: pointer;\n",
              "      display: none;\n",
              "      fill: #1967D2;\n",
              "      height: 32px;\n",
              "      padding: 0 0 0 0;\n",
              "      width: 32px;\n",
              "    }\n",
              "\n",
              "    .colab-df-convert:hover {\n",
              "      background-color: #E2EBFA;\n",
              "      box-shadow: 0px 1px 2px rgba(60, 64, 67, 0.3), 0px 1px 3px 1px rgba(60, 64, 67, 0.15);\n",
              "      fill: #174EA6;\n",
              "    }\n",
              "\n",
              "    [theme=dark] .colab-df-convert {\n",
              "      background-color: #3B4455;\n",
              "      fill: #D2E3FC;\n",
              "    }\n",
              "\n",
              "    [theme=dark] .colab-df-convert:hover {\n",
              "      background-color: #434B5C;\n",
              "      box-shadow: 0px 1px 3px 1px rgba(0, 0, 0, 0.15);\n",
              "      filter: drop-shadow(0px 1px 2px rgba(0, 0, 0, 0.3));\n",
              "      fill: #FFFFFF;\n",
              "    }\n",
              "  </style>\n",
              "\n",
              "      <script>\n",
              "        const buttonEl =\n",
              "          document.querySelector('#df-db4dca2f-db19-4941-b9c3-f2dd09995c76 button.colab-df-convert');\n",
              "        buttonEl.style.display =\n",
              "          google.colab.kernel.accessAllowed ? 'block' : 'none';\n",
              "\n",
              "        async function convertToInteractive(key) {\n",
              "          const element = document.querySelector('#df-db4dca2f-db19-4941-b9c3-f2dd09995c76');\n",
              "          const dataTable =\n",
              "            await google.colab.kernel.invokeFunction('convertToInteractive',\n",
              "                                                     [key], {});\n",
              "          if (!dataTable) return;\n",
              "\n",
              "          const docLinkHtml = 'Like what you see? Visit the ' +\n",
              "            '<a target=\"_blank\" href=https://colab.research.google.com/notebooks/data_table.ipynb>data table notebook</a>'\n",
              "            + ' to learn more about interactive tables.';\n",
              "          element.innerHTML = '';\n",
              "          dataTable['output_type'] = 'display_data';\n",
              "          await google.colab.output.renderOutput(dataTable, element);\n",
              "          const docLink = document.createElement('div');\n",
              "          docLink.innerHTML = docLinkHtml;\n",
              "          element.appendChild(docLink);\n",
              "        }\n",
              "      </script>\n",
              "    </div>\n",
              "  </div>\n",
              "  "
            ]
          },
          "metadata": {},
          "execution_count": 3
        }
      ],
      "source": [
        "df = pd.read_csv('Bank Customer Churn Prediction.csv')\n",
        "df"
      ]
    },
    {
      "cell_type": "markdown",
      "source": [
        "Observations:\n",
        "\n",
        "Country and gender are categorical\n",
        "\n",
        "Tenure, products_number,credit_card, active_member, churn, credit score,age, balance, and estimated_salary are numerical\n",
        "\n",
        "Tenure and products_number have more than two distinc value\n",
        "\n",
        "Churn columns seems to contain two distinct values"
      ],
      "metadata": {
        "id": "YHM5gcsmdgpX"
      },
      "id": "YHM5gcsmdgpX"
    },
    {
      "cell_type": "markdown",
      "source": [
        "# Perform Data Cleaning"
      ],
      "metadata": {
        "id": "vqGilgW904Q0"
      },
      "id": "vqGilgW904Q0"
    },
    {
      "cell_type": "code",
      "source": [
        "# check data info\n",
        "df.info()"
      ],
      "metadata": {
        "colab": {
          "base_uri": "https://localhost:8080/"
        },
        "id": "l3XDIf4nyzKI",
        "outputId": "8bdc7323-253e-4c0b-904f-5e969f1a8dfd"
      },
      "id": "l3XDIf4nyzKI",
      "execution_count": 4,
      "outputs": [
        {
          "output_type": "stream",
          "name": "stdout",
          "text": [
            "<class 'pandas.core.frame.DataFrame'>\n",
            "RangeIndex: 10000 entries, 0 to 9999\n",
            "Data columns (total 12 columns):\n",
            " #   Column            Non-Null Count  Dtype  \n",
            "---  ------            --------------  -----  \n",
            " 0   customer_id       10000 non-null  int64  \n",
            " 1   credit_score      10000 non-null  int64  \n",
            " 2   country           10000 non-null  object \n",
            " 3   gender            10000 non-null  object \n",
            " 4   age               10000 non-null  int64  \n",
            " 5   tenure            10000 non-null  int64  \n",
            " 6   balance           10000 non-null  float64\n",
            " 7   products_number   10000 non-null  int64  \n",
            " 8   credit_card       10000 non-null  int64  \n",
            " 9   active_member     10000 non-null  int64  \n",
            " 10  estimated_salary  10000 non-null  float64\n",
            " 11  churn             10000 non-null  int64  \n",
            "dtypes: float64(2), int64(8), object(2)\n",
            "memory usage: 937.6+ KB\n"
          ]
        }
      ]
    },
    {
      "cell_type": "code",
      "source": [
        "# check the unique values for each column\n",
        "df.nunique()"
      ],
      "metadata": {
        "colab": {
          "base_uri": "https://localhost:8080/"
        },
        "id": "H7pR2XAHzD2r",
        "outputId": "fbe23d50-f6c7-4254-e5be-f787a687d65b"
      },
      "id": "H7pR2XAHzD2r",
      "execution_count": 5,
      "outputs": [
        {
          "output_type": "execute_result",
          "data": {
            "text/plain": [
              "customer_id         10000\n",
              "credit_score          460\n",
              "country                 3\n",
              "gender                  2\n",
              "age                    70\n",
              "tenure                 11\n",
              "balance              6382\n",
              "products_number         4\n",
              "credit_card             2\n",
              "active_member           2\n",
              "estimated_salary     9999\n",
              "churn                   2\n",
              "dtype: int64"
            ]
          },
          "metadata": {},
          "execution_count": 5
        }
      ]
    },
    {
      "cell_type": "code",
      "source": [
        "# number of missing values per column\n",
        "df.isna().sum()"
      ],
      "metadata": {
        "colab": {
          "base_uri": "https://localhost:8080/"
        },
        "id": "pxTErdiu0WXj",
        "outputId": "051a9f5e-f3a7-47c8-a99c-1453abd75252"
      },
      "id": "pxTErdiu0WXj",
      "execution_count": 6,
      "outputs": [
        {
          "output_type": "execute_result",
          "data": {
            "text/plain": [
              "customer_id         0\n",
              "credit_score        0\n",
              "country             0\n",
              "gender              0\n",
              "age                 0\n",
              "tenure              0\n",
              "balance             0\n",
              "products_number     0\n",
              "credit_card         0\n",
              "active_member       0\n",
              "estimated_salary    0\n",
              "churn               0\n",
              "dtype: int64"
            ]
          },
          "metadata": {},
          "execution_count": 6
        }
      ]
    },
    {
      "cell_type": "markdown",
      "source": [
        "all data are clean. So no need data cleaning"
      ],
      "metadata": {
        "id": "B55hYajr09QO"
      },
      "id": "B55hYajr09QO"
    },
    {
      "cell_type": "markdown",
      "source": [
        "# Perform standard EDA"
      ],
      "metadata": {
        "id": "vEkmXpeA2IXB"
      },
      "id": "vEkmXpeA2IXB"
    },
    {
      "cell_type": "markdown",
      "source": [
        "\n",
        "\n",
        "*   **Statistical summary of columns**\n",
        "\n",
        "\n",
        "\n",
        "\n",
        "\n"
      ],
      "metadata": {
        "id": "qlC71M0K2R7B"
      },
      "id": "qlC71M0K2R7B"
    },
    {
      "cell_type": "code",
      "source": [
        "# group column names based on type\n",
        "categoricals = ['country','gender']\n",
        "\n",
        "numericals= ['credit_score','age','products_number','tenure','balance','estimated_salary', 'credit_card','active_member','churn']"
      ],
      "metadata": {
        "id": "4ASNL63X2QpK"
      },
      "id": "4ASNL63X2QpK",
      "execution_count": 8,
      "outputs": []
    },
    {
      "cell_type": "code",
      "source": [
        "# numerical statistical sumary\n",
        "df[numericals].describe()"
      ],
      "metadata": {
        "colab": {
          "base_uri": "https://localhost:8080/",
          "height": 364
        },
        "id": "M1Yy-Ev24ZDJ",
        "outputId": "c373007c-7f16-4fe2-df2c-158aa7b1cd26"
      },
      "id": "M1Yy-Ev24ZDJ",
      "execution_count": 10,
      "outputs": [
        {
          "output_type": "execute_result",
          "data": {
            "text/plain": [
              "       credit_score           age  products_number        tenure  \\\n",
              "count  10000.000000  10000.000000     10000.000000  10000.000000   \n",
              "mean     650.528800     38.921800         1.530200      5.012800   \n",
              "std       96.653299     10.487806         0.581654      2.892174   \n",
              "min      350.000000     18.000000         1.000000      0.000000   \n",
              "25%      584.000000     32.000000         1.000000      3.000000   \n",
              "50%      652.000000     37.000000         1.000000      5.000000   \n",
              "75%      718.000000     44.000000         2.000000      7.000000   \n",
              "max      850.000000     92.000000         4.000000     10.000000   \n",
              "\n",
              "             balance  estimated_salary  credit_card  active_member  \\\n",
              "count   10000.000000      10000.000000  10000.00000   10000.000000   \n",
              "mean    76485.889288     100090.239881      0.70550       0.515100   \n",
              "std     62397.405202      57510.492818      0.45584       0.499797   \n",
              "min         0.000000         11.580000      0.00000       0.000000   \n",
              "25%         0.000000      51002.110000      0.00000       0.000000   \n",
              "50%     97198.540000     100193.915000      1.00000       1.000000   \n",
              "75%    127644.240000     149388.247500      1.00000       1.000000   \n",
              "max    250898.090000     199992.480000      1.00000       1.000000   \n",
              "\n",
              "              churn  \n",
              "count  10000.000000  \n",
              "mean       0.203700  \n",
              "std        0.402769  \n",
              "min        0.000000  \n",
              "25%        0.000000  \n",
              "50%        0.000000  \n",
              "75%        0.000000  \n",
              "max        1.000000  "
            ],
            "text/html": [
              "\n",
              "  <div id=\"df-acb31c5f-1b46-49ae-b791-4dd10a846b84\">\n",
              "    <div class=\"colab-df-container\">\n",
              "      <div>\n",
              "<style scoped>\n",
              "    .dataframe tbody tr th:only-of-type {\n",
              "        vertical-align: middle;\n",
              "    }\n",
              "\n",
              "    .dataframe tbody tr th {\n",
              "        vertical-align: top;\n",
              "    }\n",
              "\n",
              "    .dataframe thead th {\n",
              "        text-align: right;\n",
              "    }\n",
              "</style>\n",
              "<table border=\"1\" class=\"dataframe\">\n",
              "  <thead>\n",
              "    <tr style=\"text-align: right;\">\n",
              "      <th></th>\n",
              "      <th>credit_score</th>\n",
              "      <th>age</th>\n",
              "      <th>products_number</th>\n",
              "      <th>tenure</th>\n",
              "      <th>balance</th>\n",
              "      <th>estimated_salary</th>\n",
              "      <th>credit_card</th>\n",
              "      <th>active_member</th>\n",
              "      <th>churn</th>\n",
              "    </tr>\n",
              "  </thead>\n",
              "  <tbody>\n",
              "    <tr>\n",
              "      <th>count</th>\n",
              "      <td>10000.000000</td>\n",
              "      <td>10000.000000</td>\n",
              "      <td>10000.000000</td>\n",
              "      <td>10000.000000</td>\n",
              "      <td>10000.000000</td>\n",
              "      <td>10000.000000</td>\n",
              "      <td>10000.00000</td>\n",
              "      <td>10000.000000</td>\n",
              "      <td>10000.000000</td>\n",
              "    </tr>\n",
              "    <tr>\n",
              "      <th>mean</th>\n",
              "      <td>650.528800</td>\n",
              "      <td>38.921800</td>\n",
              "      <td>1.530200</td>\n",
              "      <td>5.012800</td>\n",
              "      <td>76485.889288</td>\n",
              "      <td>100090.239881</td>\n",
              "      <td>0.70550</td>\n",
              "      <td>0.515100</td>\n",
              "      <td>0.203700</td>\n",
              "    </tr>\n",
              "    <tr>\n",
              "      <th>std</th>\n",
              "      <td>96.653299</td>\n",
              "      <td>10.487806</td>\n",
              "      <td>0.581654</td>\n",
              "      <td>2.892174</td>\n",
              "      <td>62397.405202</td>\n",
              "      <td>57510.492818</td>\n",
              "      <td>0.45584</td>\n",
              "      <td>0.499797</td>\n",
              "      <td>0.402769</td>\n",
              "    </tr>\n",
              "    <tr>\n",
              "      <th>min</th>\n",
              "      <td>350.000000</td>\n",
              "      <td>18.000000</td>\n",
              "      <td>1.000000</td>\n",
              "      <td>0.000000</td>\n",
              "      <td>0.000000</td>\n",
              "      <td>11.580000</td>\n",
              "      <td>0.00000</td>\n",
              "      <td>0.000000</td>\n",
              "      <td>0.000000</td>\n",
              "    </tr>\n",
              "    <tr>\n",
              "      <th>25%</th>\n",
              "      <td>584.000000</td>\n",
              "      <td>32.000000</td>\n",
              "      <td>1.000000</td>\n",
              "      <td>3.000000</td>\n",
              "      <td>0.000000</td>\n",
              "      <td>51002.110000</td>\n",
              "      <td>0.00000</td>\n",
              "      <td>0.000000</td>\n",
              "      <td>0.000000</td>\n",
              "    </tr>\n",
              "    <tr>\n",
              "      <th>50%</th>\n",
              "      <td>652.000000</td>\n",
              "      <td>37.000000</td>\n",
              "      <td>1.000000</td>\n",
              "      <td>5.000000</td>\n",
              "      <td>97198.540000</td>\n",
              "      <td>100193.915000</td>\n",
              "      <td>1.00000</td>\n",
              "      <td>1.000000</td>\n",
              "      <td>0.000000</td>\n",
              "    </tr>\n",
              "    <tr>\n",
              "      <th>75%</th>\n",
              "      <td>718.000000</td>\n",
              "      <td>44.000000</td>\n",
              "      <td>2.000000</td>\n",
              "      <td>7.000000</td>\n",
              "      <td>127644.240000</td>\n",
              "      <td>149388.247500</td>\n",
              "      <td>1.00000</td>\n",
              "      <td>1.000000</td>\n",
              "      <td>0.000000</td>\n",
              "    </tr>\n",
              "    <tr>\n",
              "      <th>max</th>\n",
              "      <td>850.000000</td>\n",
              "      <td>92.000000</td>\n",
              "      <td>4.000000</td>\n",
              "      <td>10.000000</td>\n",
              "      <td>250898.090000</td>\n",
              "      <td>199992.480000</td>\n",
              "      <td>1.00000</td>\n",
              "      <td>1.000000</td>\n",
              "      <td>1.000000</td>\n",
              "    </tr>\n",
              "  </tbody>\n",
              "</table>\n",
              "</div>\n",
              "      <button class=\"colab-df-convert\" onclick=\"convertToInteractive('df-acb31c5f-1b46-49ae-b791-4dd10a846b84')\"\n",
              "              title=\"Convert this dataframe to an interactive table.\"\n",
              "              style=\"display:none;\">\n",
              "        \n",
              "  <svg xmlns=\"http://www.w3.org/2000/svg\" height=\"24px\"viewBox=\"0 0 24 24\"\n",
              "       width=\"24px\">\n",
              "    <path d=\"M0 0h24v24H0V0z\" fill=\"none\"/>\n",
              "    <path d=\"M18.56 5.44l.94 2.06.94-2.06 2.06-.94-2.06-.94-.94-2.06-.94 2.06-2.06.94zm-11 1L8.5 8.5l.94-2.06 2.06-.94-2.06-.94L8.5 2.5l-.94 2.06-2.06.94zm10 10l.94 2.06.94-2.06 2.06-.94-2.06-.94-.94-2.06-.94 2.06-2.06.94z\"/><path d=\"M17.41 7.96l-1.37-1.37c-.4-.4-.92-.59-1.43-.59-.52 0-1.04.2-1.43.59L10.3 9.45l-7.72 7.72c-.78.78-.78 2.05 0 2.83L4 21.41c.39.39.9.59 1.41.59.51 0 1.02-.2 1.41-.59l7.78-7.78 2.81-2.81c.8-.78.8-2.07 0-2.86zM5.41 20L4 18.59l7.72-7.72 1.47 1.35L5.41 20z\"/>\n",
              "  </svg>\n",
              "      </button>\n",
              "      \n",
              "  <style>\n",
              "    .colab-df-container {\n",
              "      display:flex;\n",
              "      flex-wrap:wrap;\n",
              "      gap: 12px;\n",
              "    }\n",
              "\n",
              "    .colab-df-convert {\n",
              "      background-color: #E8F0FE;\n",
              "      border: none;\n",
              "      border-radius: 50%;\n",
              "      cursor: pointer;\n",
              "      display: none;\n",
              "      fill: #1967D2;\n",
              "      height: 32px;\n",
              "      padding: 0 0 0 0;\n",
              "      width: 32px;\n",
              "    }\n",
              "\n",
              "    .colab-df-convert:hover {\n",
              "      background-color: #E2EBFA;\n",
              "      box-shadow: 0px 1px 2px rgba(60, 64, 67, 0.3), 0px 1px 3px 1px rgba(60, 64, 67, 0.15);\n",
              "      fill: #174EA6;\n",
              "    }\n",
              "\n",
              "    [theme=dark] .colab-df-convert {\n",
              "      background-color: #3B4455;\n",
              "      fill: #D2E3FC;\n",
              "    }\n",
              "\n",
              "    [theme=dark] .colab-df-convert:hover {\n",
              "      background-color: #434B5C;\n",
              "      box-shadow: 0px 1px 3px 1px rgba(0, 0, 0, 0.15);\n",
              "      filter: drop-shadow(0px 1px 2px rgba(0, 0, 0, 0.3));\n",
              "      fill: #FFFFFF;\n",
              "    }\n",
              "  </style>\n",
              "\n",
              "      <script>\n",
              "        const buttonEl =\n",
              "          document.querySelector('#df-acb31c5f-1b46-49ae-b791-4dd10a846b84 button.colab-df-convert');\n",
              "        buttonEl.style.display =\n",
              "          google.colab.kernel.accessAllowed ? 'block' : 'none';\n",
              "\n",
              "        async function convertToInteractive(key) {\n",
              "          const element = document.querySelector('#df-acb31c5f-1b46-49ae-b791-4dd10a846b84');\n",
              "          const dataTable =\n",
              "            await google.colab.kernel.invokeFunction('convertToInteractive',\n",
              "                                                     [key], {});\n",
              "          if (!dataTable) return;\n",
              "\n",
              "          const docLinkHtml = 'Like what you see? Visit the ' +\n",
              "            '<a target=\"_blank\" href=https://colab.research.google.com/notebooks/data_table.ipynb>data table notebook</a>'\n",
              "            + ' to learn more about interactive tables.';\n",
              "          element.innerHTML = '';\n",
              "          dataTable['output_type'] = 'display_data';\n",
              "          await google.colab.output.renderOutput(dataTable, element);\n",
              "          const docLink = document.createElement('div');\n",
              "          docLink.innerHTML = docLinkHtml;\n",
              "          element.appendChild(docLink);\n",
              "        }\n",
              "      </script>\n",
              "    </div>\n",
              "  </div>\n",
              "  "
            ]
          },
          "metadata": {},
          "execution_count": 10
        }
      ]
    },
    {
      "cell_type": "markdown",
      "source": [
        "Observation:\n",
        "Mean ~ 50% (Median) in credit score, age, tenure, balance, and estimated salary indicating a symmetrical distribution"
      ],
      "metadata": {
        "id": "H2TDPBAw4vDY"
      },
      "id": "H2TDPBAw4vDY"
    },
    {
      "cell_type": "code",
      "source": [
        "# describe method on categorical data\n",
        "df[categoricals].describe()"
      ],
      "metadata": {
        "colab": {
          "base_uri": "https://localhost:8080/",
          "height": 175
        },
        "id": "e9U6aADe4dlR",
        "outputId": "db69afea-b93c-41ad-c8d7-1d45c88d8859"
      },
      "id": "e9U6aADe4dlR",
      "execution_count": 9,
      "outputs": [
        {
          "output_type": "execute_result",
          "data": {
            "text/plain": [
              "       country gender\n",
              "count    10000  10000\n",
              "unique       3      2\n",
              "top     France   Male\n",
              "freq      5014   5457"
            ],
            "text/html": [
              "\n",
              "  <div id=\"df-2c0c4314-03e7-43b4-9c4d-36cce1345d45\">\n",
              "    <div class=\"colab-df-container\">\n",
              "      <div>\n",
              "<style scoped>\n",
              "    .dataframe tbody tr th:only-of-type {\n",
              "        vertical-align: middle;\n",
              "    }\n",
              "\n",
              "    .dataframe tbody tr th {\n",
              "        vertical-align: top;\n",
              "    }\n",
              "\n",
              "    .dataframe thead th {\n",
              "        text-align: right;\n",
              "    }\n",
              "</style>\n",
              "<table border=\"1\" class=\"dataframe\">\n",
              "  <thead>\n",
              "    <tr style=\"text-align: right;\">\n",
              "      <th></th>\n",
              "      <th>country</th>\n",
              "      <th>gender</th>\n",
              "    </tr>\n",
              "  </thead>\n",
              "  <tbody>\n",
              "    <tr>\n",
              "      <th>count</th>\n",
              "      <td>10000</td>\n",
              "      <td>10000</td>\n",
              "    </tr>\n",
              "    <tr>\n",
              "      <th>unique</th>\n",
              "      <td>3</td>\n",
              "      <td>2</td>\n",
              "    </tr>\n",
              "    <tr>\n",
              "      <th>top</th>\n",
              "      <td>France</td>\n",
              "      <td>Male</td>\n",
              "    </tr>\n",
              "    <tr>\n",
              "      <th>freq</th>\n",
              "      <td>5014</td>\n",
              "      <td>5457</td>\n",
              "    </tr>\n",
              "  </tbody>\n",
              "</table>\n",
              "</div>\n",
              "      <button class=\"colab-df-convert\" onclick=\"convertToInteractive('df-2c0c4314-03e7-43b4-9c4d-36cce1345d45')\"\n",
              "              title=\"Convert this dataframe to an interactive table.\"\n",
              "              style=\"display:none;\">\n",
              "        \n",
              "  <svg xmlns=\"http://www.w3.org/2000/svg\" height=\"24px\"viewBox=\"0 0 24 24\"\n",
              "       width=\"24px\">\n",
              "    <path d=\"M0 0h24v24H0V0z\" fill=\"none\"/>\n",
              "    <path d=\"M18.56 5.44l.94 2.06.94-2.06 2.06-.94-2.06-.94-.94-2.06-.94 2.06-2.06.94zm-11 1L8.5 8.5l.94-2.06 2.06-.94-2.06-.94L8.5 2.5l-.94 2.06-2.06.94zm10 10l.94 2.06.94-2.06 2.06-.94-2.06-.94-.94-2.06-.94 2.06-2.06.94z\"/><path d=\"M17.41 7.96l-1.37-1.37c-.4-.4-.92-.59-1.43-.59-.52 0-1.04.2-1.43.59L10.3 9.45l-7.72 7.72c-.78.78-.78 2.05 0 2.83L4 21.41c.39.39.9.59 1.41.59.51 0 1.02-.2 1.41-.59l7.78-7.78 2.81-2.81c.8-.78.8-2.07 0-2.86zM5.41 20L4 18.59l7.72-7.72 1.47 1.35L5.41 20z\"/>\n",
              "  </svg>\n",
              "      </button>\n",
              "      \n",
              "  <style>\n",
              "    .colab-df-container {\n",
              "      display:flex;\n",
              "      flex-wrap:wrap;\n",
              "      gap: 12px;\n",
              "    }\n",
              "\n",
              "    .colab-df-convert {\n",
              "      background-color: #E8F0FE;\n",
              "      border: none;\n",
              "      border-radius: 50%;\n",
              "      cursor: pointer;\n",
              "      display: none;\n",
              "      fill: #1967D2;\n",
              "      height: 32px;\n",
              "      padding: 0 0 0 0;\n",
              "      width: 32px;\n",
              "    }\n",
              "\n",
              "    .colab-df-convert:hover {\n",
              "      background-color: #E2EBFA;\n",
              "      box-shadow: 0px 1px 2px rgba(60, 64, 67, 0.3), 0px 1px 3px 1px rgba(60, 64, 67, 0.15);\n",
              "      fill: #174EA6;\n",
              "    }\n",
              "\n",
              "    [theme=dark] .colab-df-convert {\n",
              "      background-color: #3B4455;\n",
              "      fill: #D2E3FC;\n",
              "    }\n",
              "\n",
              "    [theme=dark] .colab-df-convert:hover {\n",
              "      background-color: #434B5C;\n",
              "      box-shadow: 0px 1px 3px 1px rgba(0, 0, 0, 0.15);\n",
              "      filter: drop-shadow(0px 1px 2px rgba(0, 0, 0, 0.3));\n",
              "      fill: #FFFFFF;\n",
              "    }\n",
              "  </style>\n",
              "\n",
              "      <script>\n",
              "        const buttonEl =\n",
              "          document.querySelector('#df-2c0c4314-03e7-43b4-9c4d-36cce1345d45 button.colab-df-convert');\n",
              "        buttonEl.style.display =\n",
              "          google.colab.kernel.accessAllowed ? 'block' : 'none';\n",
              "\n",
              "        async function convertToInteractive(key) {\n",
              "          const element = document.querySelector('#df-2c0c4314-03e7-43b4-9c4d-36cce1345d45');\n",
              "          const dataTable =\n",
              "            await google.colab.kernel.invokeFunction('convertToInteractive',\n",
              "                                                     [key], {});\n",
              "          if (!dataTable) return;\n",
              "\n",
              "          const docLinkHtml = 'Like what you see? Visit the ' +\n",
              "            '<a target=\"_blank\" href=https://colab.research.google.com/notebooks/data_table.ipynb>data table notebook</a>'\n",
              "            + ' to learn more about interactive tables.';\n",
              "          element.innerHTML = '';\n",
              "          dataTable['output_type'] = 'display_data';\n",
              "          await google.colab.output.renderOutput(dataTable, element);\n",
              "          const docLink = document.createElement('div');\n",
              "          docLink.innerHTML = docLinkHtml;\n",
              "          element.appendChild(docLink);\n",
              "        }\n",
              "      </script>\n",
              "    </div>\n",
              "  </div>\n",
              "  "
            ]
          },
          "metadata": {},
          "execution_count": 9
        }
      ]
    },
    {
      "cell_type": "code",
      "source": [
        "# showing the precise value counts\n",
        "# this code is especially useful if we have many categorical columns\n",
        "for col in categoricals:\n",
        "  print(f\"Value counts of {col} column\")\n",
        "  print(df[col].value_counts(), '\\n')"
      ],
      "metadata": {
        "colab": {
          "base_uri": "https://localhost:8080/"
        },
        "id": "hkYmzB7p7CkG",
        "outputId": "b176ca87-1617-4efb-a183-c6377197a25e"
      },
      "id": "hkYmzB7p7CkG",
      "execution_count": 11,
      "outputs": [
        {
          "output_type": "stream",
          "name": "stdout",
          "text": [
            "Value counts of country column\n",
            "France     5014\n",
            "Germany    2509\n",
            "Spain      2477\n",
            "Name: country, dtype: int64 \n",
            "\n",
            "Value counts of gender column\n",
            "Male      5457\n",
            "Female    4543\n",
            "Name: gender, dtype: int64 \n",
            "\n"
          ]
        }
      ]
    },
    {
      "cell_type": "markdown",
      "source": [
        "\n",
        "\n",
        "*   **Univariate Analysis**\n",
        "\n",
        "\n"
      ],
      "metadata": {
        "id": "FMquW9UF6Vhs"
      },
      "id": "FMquW9UF6Vhs"
    },
    {
      "cell_type": "code",
      "source": [
        "import pandas as pd\n",
        "import numpy as np\n",
        "import matplotlib.pyplot as plt\n",
        "import seaborn as sns"
      ],
      "metadata": {
        "id": "mXLODqN16oIk"
      },
      "id": "mXLODqN16oIk",
      "execution_count": 12,
      "outputs": []
    },
    {
      "cell_type": "code",
      "source": [
        "# adjust the figure size for better readability\n",
        "plt.figure(figsize=(12,6))\n",
        "\n",
        "# plotting\n",
        "features = numericals\n",
        "for i in range(0, len(features)):\n",
        "    plt.subplot(1, len(features), i+1)\n",
        "    sns.boxplot(y=df[features[i]], color='purple')\n",
        "    plt.tight_layout()"
      ],
      "metadata": {
        "colab": {
          "base_uri": "https://localhost:8080/",
          "height": 437
        },
        "id": "RRHljJzK6cuz",
        "outputId": "dbab4c42-06eb-4b2f-f6c5-513bf059e42d"
      },
      "id": "RRHljJzK6cuz",
      "execution_count": 13,
      "outputs": [
        {
          "output_type": "display_data",
          "data": {
            "text/plain": [
              "<Figure size 864x432 with 9 Axes>"
            ],
            "image/png": "[encoded data removed]"
          },
          "metadata": {}
        }
      ]
    },
    {
      "cell_type": "markdown",
      "source": [
        "Column credit score, age and product number have handful of outliers. the outliers are look extreme, but need to drop."
      ],
      "metadata": {
        "id": "tWChWHBvDlmD"
      },
      "id": "tWChWHBvDlmD"
    },
    {
      "cell_type": "code",
      "source": [
        "# adjust the figure size for better readability\n",
        "plt.figure(figsize=(12,6))\n",
        "\n",
        "features = numericals\n",
        "for i in range(0, len(features)):\n",
        "    plt.subplot(2, len(features)//2 + 1, i+1)\n",
        "    #plt.subplot(1, len(features), i+1)\n",
        "    sns.distplot(x=df[features[i]], color='green')\n",
        "    plt.xlabel(features[i])\n",
        "    plt.tight_layout()"
      ],
      "metadata": {
        "colab": {
          "base_uri": "https://localhost:8080/",
          "height": 437
        },
        "id": "5j6l0Zhe8Ohi",
        "outputId": "f0b9d922-a563-4287-d5ab-367a17f6f181"
      },
      "id": "5j6l0Zhe8Ohi",
      "execution_count": 14,
      "outputs": [
        {
          "output_type": "display_data",
          "data": {
            "text/plain": [
              "<Figure size 864x432 with 9 Axes>"
            ],
            "image/png": "[encoded data removed]"
          },
          "metadata": {}
        }
      ]
    },
    {
      "cell_type": "markdown",
      "source": [
        "Observations:\n",
        "\n",
        "In terms of the balance = 0 is more frequent in the dataset\n",
        "\n",
        "Tenure with a value from 0 to 10\n",
        "\n",
        "credit score is negatively skewed\n",
        "\n",
        "age column is positively skewed\n",
        "\n",
        "credit card, active member, and churn only have two values"
      ],
      "metadata": {
        "id": "F12sAKIffO1Z"
      },
      "id": "F12sAKIffO1Z"
    },
    {
      "cell_type": "markdown",
      "source": [
        "\n",
        "\n",
        "*   **Multivariate analysis** \n",
        "\n"
      ],
      "metadata": {
        "id": "BDpyaQAsFBU8"
      },
      "id": "BDpyaQAsFBU8"
    },
    {
      "cell_type": "code",
      "source": [
        "# correlation heatmap\n",
        "correlation = df.corr()\n",
        "sns.heatmap(correlation, annot=True, fmt='.2f')"
      ],
      "metadata": {
        "colab": {
          "base_uri": "https://localhost:8080/",
          "height": 364
        },
        "id": "KSBoqqs7E51q",
        "outputId": "3532494d-4174-48fe-c7c7-bdca47ff7f37"
      },
      "id": "KSBoqqs7E51q",
      "execution_count": null,
      "outputs": [
        {
          "output_type": "execute_result",
          "data": {
            "text/plain": [
              "<matplotlib.axes._subplots.AxesSubplot at 0x7f63f9516950>"
            ]
          },
          "metadata": {},
          "execution_count": 13
        },
        {
          "output_type": "display_data",
          "data": {
            "text/plain": [
              "<Figure size 432x288 with 2 Axes>"
            ],
            "image/png": "[encoded data removed]"
          },
          "metadata": {
            "needs_background": "light"
          }
        }
      ]
    },
    {
      "cell_type": "markdown",
      "source": [
        "Variables are not highly correlated each other"
      ],
      "metadata": {
        "id": "UT1LUxP6HS-D"
      },
      "id": "UT1LUxP6HS-D"
    },
    {
      "cell_type": "code",
      "source": [
        "# understand categorical feature\n",
        "_,axss = plt.subplots(2,2, figsize=[15,10])\n",
        "sns.countplot(x='churn', hue='country', data=df, ax=axss[0][0])\n",
        "sns.countplot(x='churn', hue='gender', data=df, ax=axss[0][1])\n",
        "sns.countplot(x='churn', hue='products_number', data=df, ax=axss[1][0])\n",
        "sns.countplot(x='churn', hue='credit_card', data=df, ax=axss[1][1])"
      ],
      "metadata": {
        "colab": {
          "base_uri": "https://localhost:8080/",
          "height": 623
        },
        "id": "32TiwdShH-Sd",
        "outputId": "1592c292-1637-40f9-882e-62bc08d7af75"
      },
      "id": "32TiwdShH-Sd",
      "execution_count": 15,
      "outputs": [
        {
          "output_type": "execute_result",
          "data": {
            "text/plain": [
              "<matplotlib.axes._subplots.AxesSubplot at 0x7f1faa188e90>"
            ]
          },
          "metadata": {},
          "execution_count": 15
        },
        {
          "output_type": "display_data",
          "data": {
            "text/plain": [
              "<Figure size 1080x720 with 4 Axes>"
            ],
            "image/png": "[encoded data removed]"
          },
          "metadata": {}
        }
      ]
    },
    {
      "cell_type": "code",
      "source": [
        "fig,axs=plt.subplots(figsize=(4.5,3))\n",
        "sns.countplot(x='active_member',hue='churn',data=df)\n",
        "plt.show()"
      ],
      "metadata": {
        "colab": {
          "base_uri": "https://localhost:8080/",
          "height": 225
        },
        "id": "Zp6Y2FNWfagG",
        "outputId": "9e24dec2-5df0-4f06-ff05-6e648e6ec2cf"
      },
      "id": "Zp6Y2FNWfagG",
      "execution_count": 16,
      "outputs": [
        {
          "output_type": "display_data",
          "data": {
            "text/plain": [
              "<Figure size 324x216 with 1 Axes>"
            ],
            "image/png": "[encoded data removed]"
          },
          "metadata": {}
        }
      ]
    },
    {
      "cell_type": "code",
      "source": [
        "sns.catplot(x = 'churn', y=\"estimated_salary\", kind=\"box\", data = df)"
      ],
      "metadata": {
        "colab": {
          "base_uri": "https://localhost:8080/",
          "height": 382
        },
        "id": "sWqr2Xfrfgah",
        "outputId": "7a5cb68d-02aa-4bc0-c782-23cc04baab89"
      },
      "id": "sWqr2Xfrfgah",
      "execution_count": 17,
      "outputs": [
        {
          "output_type": "execute_result",
          "data": {
            "text/plain": [
              "<seaborn.axisgrid.FacetGrid at 0x7f1faba16190>"
            ]
          },
          "metadata": {},
          "execution_count": 17
        },
        {
          "output_type": "display_data",
          "data": {
            "text/plain": [
              "<Figure size 360x360 with 1 Axes>"
            ],
            "image/png": "[encoded data removed]"
          },
          "metadata": {}
        }
      ]
    },
    {
      "cell_type": "code",
      "source": [
        "sns.catplot(x = 'churn', y=\"balance\", kind=\"box\", data = df)"
      ],
      "metadata": {
        "colab": {
          "base_uri": "https://localhost:8080/",
          "height": 382
        },
        "id": "rUnbAX4Ufld7",
        "outputId": "6fda181a-51c7-41df-9a9c-71c0af99952e"
      },
      "id": "rUnbAX4Ufld7",
      "execution_count": 18,
      "outputs": [
        {
          "output_type": "execute_result",
          "data": {
            "text/plain": [
              "<seaborn.axisgrid.FacetGrid at 0x7f1fa9f797d0>"
            ]
          },
          "metadata": {},
          "execution_count": 18
        },
        {
          "output_type": "display_data",
          "data": {
            "text/plain": [
              "<Figure size 360x360 with 1 Axes>"
            ],
            "image/png": "[encoded data removed]"
          },
          "metadata": {}
        }
      ]
    },
    {
      "cell_type": "markdown",
      "source": [
        "EDA Conclusion\n",
        "The data doesn't contain any major problems.\n",
        "Overall, the minimum and maximum values make sense for each column. But, Mean >> and << 50% (Median) in credit score and age indicating somewhat a skewed distribution\n",
        "From the barchart we can conclude that there are country who don't churn than do, more female and male customers who don't churn than do, customer who have credit card are willing to don't churn. But there are customer as a active member are who left the bank.\n",
        "From the correlation heatmap it can be seen that variables are not highly correlated with each other"
      ],
      "metadata": {
        "id": "Hs9LgOWifpUV"
      },
      "id": "Hs9LgOWifpUV"
    },
    {
      "cell_type": "markdown",
      "source": [
        "\n",
        "\n",
        "*   **Perform deep-dive exploration**\n",
        "\n"
      ],
      "metadata": {
        "id": "rYcE5nTbJfip"
      },
      "id": "rYcE5nTbJfip"
    },
    {
      "cell_type": "markdown",
      "source": [
        "1. Does churn caused by poor service of bank that we can see from the number of product that the bank have?\n",
        "2. Does churn can be observed by the customer's country?"
      ],
      "metadata": {
        "id": "VE74TQ8BKT52"
      },
      "id": "VE74TQ8BKT52"
    },
    {
      "cell_type": "code",
      "source": [
        "df.groupby(['products_number']).agg(\n",
        "    Churn = ('churn','count')\n",
        ")"
      ],
      "metadata": {
        "colab": {
          "base_uri": "https://localhost:8080/",
          "height": 206
        },
        "id": "qzKJFdjCJ8ij",
        "outputId": "822025ce-8438-4fe4-c3b7-5e236d3920f4"
      },
      "id": "qzKJFdjCJ8ij",
      "execution_count": null,
      "outputs": [
        {
          "output_type": "execute_result",
          "data": {
            "text/plain": [
              "                 Churn\n",
              "products_number       \n",
              "1                 5084\n",
              "2                 4590\n",
              "3                  266\n",
              "4                   60"
            ],
            "text/html": [
              "\n",
              "  <div id=\"df-8da4000e-c031-4845-b224-8b9836b239a5\">\n",
              "    <div class=\"colab-df-container\">\n",
              "      <div>\n",
              "<style scoped>\n",
              "    .dataframe tbody tr th:only-of-type {\n",
              "        vertical-align: middle;\n",
              "    }\n",
              "\n",
              "    .dataframe tbody tr th {\n",
              "        vertical-align: top;\n",
              "    }\n",
              "\n",
              "    .dataframe thead th {\n",
              "        text-align: right;\n",
              "    }\n",
              "</style>\n",
              "<table border=\"1\" class=\"dataframe\">\n",
              "  <thead>\n",
              "    <tr style=\"text-align: right;\">\n",
              "      <th></th>\n",
              "      <th>Churn</th>\n",
              "    </tr>\n",
              "    <tr>\n",
              "      <th>products_number</th>\n",
              "      <th></th>\n",
              "    </tr>\n",
              "  </thead>\n",
              "  <tbody>\n",
              "    <tr>\n",
              "      <th>1</th>\n",
              "      <td>5084</td>\n",
              "    </tr>\n",
              "    <tr>\n",
              "      <th>2</th>\n",
              "      <td>4590</td>\n",
              "    </tr>\n",
              "    <tr>\n",
              "      <th>3</th>\n",
              "      <td>266</td>\n",
              "    </tr>\n",
              "    <tr>\n",
              "      <th>4</th>\n",
              "      <td>60</td>\n",
              "    </tr>\n",
              "  </tbody>\n",
              "</table>\n",
              "</div>\n",
              "      <button class=\"colab-df-convert\" onclick=\"convertToInteractive('df-8da4000e-c031-4845-b224-8b9836b239a5')\"\n",
              "              title=\"Convert this dataframe to an interactive table.\"\n",
              "              style=\"display:none;\">\n",
              "        \n",
              "  <svg xmlns=\"http://www.w3.org/2000/svg\" height=\"24px\"viewBox=\"0 0 24 24\"\n",
              "       width=\"24px\">\n",
              "    <path d=\"M0 0h24v24H0V0z\" fill=\"none\"/>\n",
              "    <path d=\"M18.56 5.44l.94 2.06.94-2.06 2.06-.94-2.06-.94-.94-2.06-.94 2.06-2.06.94zm-11 1L8.5 8.5l.94-2.06 2.06-.94-2.06-.94L8.5 2.5l-.94 2.06-2.06.94zm10 10l.94 2.06.94-2.06 2.06-.94-2.06-.94-.94-2.06-.94 2.06-2.06.94z\"/><path d=\"M17.41 7.96l-1.37-1.37c-.4-.4-.92-.59-1.43-.59-.52 0-1.04.2-1.43.59L10.3 9.45l-7.72 7.72c-.78.78-.78 2.05 0 2.83L4 21.41c.39.39.9.59 1.41.59.51 0 1.02-.2 1.41-.59l7.78-7.78 2.81-2.81c.8-.78.8-2.07 0-2.86zM5.41 20L4 18.59l7.72-7.72 1.47 1.35L5.41 20z\"/>\n",
              "  </svg>\n",
              "      </button>\n",
              "      \n",
              "  <style>\n",
              "    .colab-df-container {\n",
              "      display:flex;\n",
              "      flex-wrap:wrap;\n",
              "      gap: 12px;\n",
              "    }\n",
              "\n",
              "    .colab-df-convert {\n",
              "      background-color: #E8F0FE;\n",
              "      border: none;\n",
              "      border-radius: 50%;\n",
              "      cursor: pointer;\n",
              "      display: none;\n",
              "      fill: #1967D2;\n",
              "      height: 32px;\n",
              "      padding: 0 0 0 0;\n",
              "      width: 32px;\n",
              "    }\n",
              "\n",
              "    .colab-df-convert:hover {\n",
              "      background-color: #E2EBFA;\n",
              "      box-shadow: 0px 1px 2px rgba(60, 64, 67, 0.3), 0px 1px 3px 1px rgba(60, 64, 67, 0.15);\n",
              "      fill: #174EA6;\n",
              "    }\n",
              "\n",
              "    [theme=dark] .colab-df-convert {\n",
              "      background-color: #3B4455;\n",
              "      fill: #D2E3FC;\n",
              "    }\n",
              "\n",
              "    [theme=dark] .colab-df-convert:hover {\n",
              "      background-color: #434B5C;\n",
              "      box-shadow: 0px 1px 3px 1px rgba(0, 0, 0, 0.15);\n",
              "      filter: drop-shadow(0px 1px 2px rgba(0, 0, 0, 0.3));\n",
              "      fill: #FFFFFF;\n",
              "    }\n",
              "  </style>\n",
              "\n",
              "      <script>\n",
              "        const buttonEl =\n",
              "          document.querySelector('#df-8da4000e-c031-4845-b224-8b9836b239a5 button.colab-df-convert');\n",
              "        buttonEl.style.display =\n",
              "          google.colab.kernel.accessAllowed ? 'block' : 'none';\n",
              "\n",
              "        async function convertToInteractive(key) {\n",
              "          const element = document.querySelector('#df-8da4000e-c031-4845-b224-8b9836b239a5');\n",
              "          const dataTable =\n",
              "            await google.colab.kernel.invokeFunction('convertToInteractive',\n",
              "                                                     [key], {});\n",
              "          if (!dataTable) return;\n",
              "\n",
              "          const docLinkHtml = 'Like what you see? Visit the ' +\n",
              "            '<a target=\"_blank\" href=https://colab.research.google.com/notebooks/data_table.ipynb>data table notebook</a>'\n",
              "            + ' to learn more about interactive tables.';\n",
              "          element.innerHTML = '';\n",
              "          dataTable['output_type'] = 'display_data';\n",
              "          await google.colab.output.renderOutput(dataTable, element);\n",
              "          const docLink = document.createElement('div');\n",
              "          docLink.innerHTML = docLinkHtml;\n",
              "          element.appendChild(docLink);\n",
              "        }\n",
              "      </script>\n",
              "    </div>\n",
              "  </div>\n",
              "  "
            ]
          },
          "metadata": {},
          "execution_count": 15
        }
      ]
    },
    {
      "cell_type": "code",
      "source": [
        "df.groupby(['country']).agg(\n",
        "    Churn = ('churn','count')\n",
        ")"
      ],
      "metadata": {
        "colab": {
          "base_uri": "https://localhost:8080/",
          "height": 175
        },
        "id": "-Y-fQhlBOzBl",
        "outputId": "0912467b-d835-43ad-eb85-1fc25fe841dd"
      },
      "id": "-Y-fQhlBOzBl",
      "execution_count": null,
      "outputs": [
        {
          "output_type": "execute_result",
          "data": {
            "text/plain": [
              "         Churn\n",
              "country       \n",
              "France    5014\n",
              "Germany   2509\n",
              "Spain     2477"
            ],
            "text/html": [
              "\n",
              "  <div id=\"df-d4ca4641-0acf-43f7-8090-5b4db969899c\">\n",
              "    <div class=\"colab-df-container\">\n",
              "      <div>\n",
              "<style scoped>\n",
              "    .dataframe tbody tr th:only-of-type {\n",
              "        vertical-align: middle;\n",
              "    }\n",
              "\n",
              "    .dataframe tbody tr th {\n",
              "        vertical-align: top;\n",
              "    }\n",
              "\n",
              "    .dataframe thead th {\n",
              "        text-align: right;\n",
              "    }\n",
              "</style>\n",
              "<table border=\"1\" class=\"dataframe\">\n",
              "  <thead>\n",
              "    <tr style=\"text-align: right;\">\n",
              "      <th></th>\n",
              "      <th>Churn</th>\n",
              "    </tr>\n",
              "    <tr>\n",
              "      <th>country</th>\n",
              "      <th></th>\n",
              "    </tr>\n",
              "  </thead>\n",
              "  <tbody>\n",
              "    <tr>\n",
              "      <th>France</th>\n",
              "      <td>5014</td>\n",
              "    </tr>\n",
              "    <tr>\n",
              "      <th>Germany</th>\n",
              "      <td>2509</td>\n",
              "    </tr>\n",
              "    <tr>\n",
              "      <th>Spain</th>\n",
              "      <td>2477</td>\n",
              "    </tr>\n",
              "  </tbody>\n",
              "</table>\n",
              "</div>\n",
              "      <button class=\"colab-df-convert\" onclick=\"convertToInteractive('df-d4ca4641-0acf-43f7-8090-5b4db969899c')\"\n",
              "              title=\"Convert this dataframe to an interactive table.\"\n",
              "              style=\"display:none;\">\n",
              "        \n",
              "  <svg xmlns=\"http://www.w3.org/2000/svg\" height=\"24px\"viewBox=\"0 0 24 24\"\n",
              "       width=\"24px\">\n",
              "    <path d=\"M0 0h24v24H0V0z\" fill=\"none\"/>\n",
              "    <path d=\"M18.56 5.44l.94 2.06.94-2.06 2.06-.94-2.06-.94-.94-2.06-.94 2.06-2.06.94zm-11 1L8.5 8.5l.94-2.06 2.06-.94-2.06-.94L8.5 2.5l-.94 2.06-2.06.94zm10 10l.94 2.06.94-2.06 2.06-.94-2.06-.94-.94-2.06-.94 2.06-2.06.94z\"/><path d=\"M17.41 7.96l-1.37-1.37c-.4-.4-.92-.59-1.43-.59-.52 0-1.04.2-1.43.59L10.3 9.45l-7.72 7.72c-.78.78-.78 2.05 0 2.83L4 21.41c.39.39.9.59 1.41.59.51 0 1.02-.2 1.41-.59l7.78-7.78 2.81-2.81c.8-.78.8-2.07 0-2.86zM5.41 20L4 18.59l7.72-7.72 1.47 1.35L5.41 20z\"/>\n",
              "  </svg>\n",
              "      </button>\n",
              "      \n",
              "  <style>\n",
              "    .colab-df-container {\n",
              "      display:flex;\n",
              "      flex-wrap:wrap;\n",
              "      gap: 12px;\n",
              "    }\n",
              "\n",
              "    .colab-df-convert {\n",
              "      background-color: #E8F0FE;\n",
              "      border: none;\n",
              "      border-radius: 50%;\n",
              "      cursor: pointer;\n",
              "      display: none;\n",
              "      fill: #1967D2;\n",
              "      height: 32px;\n",
              "      padding: 0 0 0 0;\n",
              "      width: 32px;\n",
              "    }\n",
              "\n",
              "    .colab-df-convert:hover {\n",
              "      background-color: #E2EBFA;\n",
              "      box-shadow: 0px 1px 2px rgba(60, 64, 67, 0.3), 0px 1px 3px 1px rgba(60, 64, 67, 0.15);\n",
              "      fill: #174EA6;\n",
              "    }\n",
              "\n",
              "    [theme=dark] .colab-df-convert {\n",
              "      background-color: #3B4455;\n",
              "      fill: #D2E3FC;\n",
              "    }\n",
              "\n",
              "    [theme=dark] .colab-df-convert:hover {\n",
              "      background-color: #434B5C;\n",
              "      box-shadow: 0px 1px 3px 1px rgba(0, 0, 0, 0.15);\n",
              "      filter: drop-shadow(0px 1px 2px rgba(0, 0, 0, 0.3));\n",
              "      fill: #FFFFFF;\n",
              "    }\n",
              "  </style>\n",
              "\n",
              "      <script>\n",
              "        const buttonEl =\n",
              "          document.querySelector('#df-d4ca4641-0acf-43f7-8090-5b4db969899c button.colab-df-convert');\n",
              "        buttonEl.style.display =\n",
              "          google.colab.kernel.accessAllowed ? 'block' : 'none';\n",
              "\n",
              "        async function convertToInteractive(key) {\n",
              "          const element = document.querySelector('#df-d4ca4641-0acf-43f7-8090-5b4db969899c');\n",
              "          const dataTable =\n",
              "            await google.colab.kernel.invokeFunction('convertToInteractive',\n",
              "                                                     [key], {});\n",
              "          if (!dataTable) return;\n",
              "\n",
              "          const docLinkHtml = 'Like what you see? Visit the ' +\n",
              "            '<a target=\"_blank\" href=https://colab.research.google.com/notebooks/data_table.ipynb>data table notebook</a>'\n",
              "            + ' to learn more about interactive tables.';\n",
              "          element.innerHTML = '';\n",
              "          dataTable['output_type'] = 'display_data';\n",
              "          await google.colab.output.renderOutput(dataTable, element);\n",
              "          const docLink = document.createElement('div');\n",
              "          docLink.innerHTML = docLinkHtml;\n",
              "          element.appendChild(docLink);\n",
              "        }\n",
              "      </script>\n",
              "    </div>\n",
              "  </div>\n",
              "  "
            ]
          },
          "metadata": {},
          "execution_count": 16
        }
      ]
    },
    {
      "cell_type": "code",
      "source": [
        "df.dtypes"
      ],
      "metadata": {
        "colab": {
          "base_uri": "https://localhost:8080/"
        },
        "id": "gJ4xiDs3R6XJ",
        "outputId": "12737db7-2b11-4e5e-b329-a0c55e49a66b"
      },
      "id": "gJ4xiDs3R6XJ",
      "execution_count": null,
      "outputs": [
        {
          "output_type": "execute_result",
          "data": {
            "text/plain": [
              "customer_id           int64\n",
              "credit_score          int64\n",
              "country              object\n",
              "gender               object\n",
              "age                   int64\n",
              "tenure                int64\n",
              "balance             float64\n",
              "products_number       int64\n",
              "credit_card           int64\n",
              "active_member         int64\n",
              "estimated_salary    float64\n",
              "churn                 int64\n",
              "dtype: object"
            ]
          },
          "metadata": {},
          "execution_count": 17
        }
      ]
    },
    {
      "cell_type": "code",
      "source": [
        "cat_cols = df.columns[df.dtypes == 'O']\n",
        "num_cols = df.columns[(df.dtypes == 'float64') | (df.dtypes == 'int64')]"
      ],
      "metadata": {
        "id": "LruRKQFfRw7r"
      },
      "id": "LruRKQFfRw7r",
      "execution_count": null,
      "outputs": []
    },
    {
      "cell_type": "code",
      "source": [
        "num_cols"
      ],
      "metadata": {
        "colab": {
          "base_uri": "https://localhost:8080/"
        },
        "id": "6LSb8hinR9b-",
        "outputId": "0487c5ea-238f-44a9-8d5a-053108c0731e"
      },
      "id": "6LSb8hinR9b-",
      "execution_count": null,
      "outputs": [
        {
          "output_type": "execute_result",
          "data": {
            "text/plain": [
              "Index(['customer_id', 'credit_score', 'age', 'tenure', 'balance',\n",
              "       'products_number', 'credit_card', 'active_member', 'estimated_salary',\n",
              "       'churn'],\n",
              "      dtype='object')"
            ]
          },
          "metadata": {},
          "execution_count": 48
        }
      ]
    },
    {
      "cell_type": "code",
      "source": [
        "cat_cols"
      ],
      "metadata": {
        "colab": {
          "base_uri": "https://localhost:8080/"
        },
        "id": "qsMeRZdKSDok",
        "outputId": "9dfa6290-f04c-4051-d9d2-2c7013a7810e"
      },
      "id": "qsMeRZdKSDok",
      "execution_count": null,
      "outputs": [
        {
          "output_type": "execute_result",
          "data": {
            "text/plain": [
              "Index(['country', 'gender'], dtype='object')"
            ]
          },
          "metadata": {},
          "execution_count": 49
        }
      ]
    },
    {
      "cell_type": "markdown",
      "source": [
        "# KNN"
      ],
      "metadata": {
        "id": "6L_JCvsDIH5H"
      },
      "id": "6L_JCvsDIH5H"
    },
    {
      "cell_type": "code",
      "source": [
        "from imblearn.over_sampling import RandomOverSampler"
      ],
      "metadata": {
        "id": "OtsCgRrBKLqa"
      },
      "id": "OtsCgRrBKLqa",
      "execution_count": null,
      "outputs": []
    },
    {
      "cell_type": "code",
      "source": [
        "X = df.iloc[:, 0:10].values\n",
        "y = df.iloc[:, 10].values"
      ],
      "metadata": {
        "id": "fq-BfRqKJwFt"
      },
      "id": "fq-BfRqKJwFt",
      "execution_count": null,
      "outputs": []
    },
    {
      "cell_type": "markdown",
      "source": [
        "Balancing Classes"
      ],
      "metadata": {
        "id": "PkIGnWIqKTUE"
      },
      "id": "PkIGnWIqKTUE"
    },
    {
      "cell_type": "code",
      "source": [
        "from imblearn.over_sampling import RandomOverSampler\n",
        "ros = RandomOverSampler(random_state=0)\n",
        "X, y = ros.fit_resample(X, y)\n",
        "ax = sns.countplot(x=y)"
      ],
      "metadata": {
        "colab": {
          "base_uri": "https://localhost:8080/",
          "height": 265
        },
        "id": "aEuMOcDQKYED",
        "outputId": "f092423a-a436-4dcc-a237-77e5503e9be0"
      },
      "id": "aEuMOcDQKYED",
      "execution_count": null,
      "outputs": [
        {
          "output_type": "display_data",
          "data": {
            "text/plain": [
              "<Figure size 432x288 with 1 Axes>"
            ],
            "image/png": "[encoded data removed]"
          },
          "metadata": {
            "needs_background": "light"
          }
        }
      ]
    },
    {
      "cell_type": "markdown",
      "source": [
        "Label Encoder"
      ],
      "metadata": {
        "id": "a3dllvEhKtMO"
      },
      "id": "a3dllvEhKtMO"
    },
    {
      "cell_type": "code",
      "source": [
        "from sklearn.preprocessing import LabelEncoder\n",
        "label_encoder_country = LabelEncoder()\n",
        "label_encoder_gender = LabelEncoder()\n",
        "X[:,1] = label_encoder_country.fit_transform(X[:,1])\n",
        "X[:,2] = label_encoder_gender.fit_transform(X[:,2])"
      ],
      "metadata": {
        "id": "kmbZnQi7KwRx"
      },
      "id": "kmbZnQi7KwRx",
      "execution_count": null,
      "outputs": []
    },
    {
      "cell_type": "markdown",
      "source": [
        "StandardScaler"
      ],
      "metadata": {
        "id": "pam4_gcqLax5"
      },
      "id": "pam4_gcqLax5"
    },
    {
      "cell_type": "code",
      "source": [
        "from sklearn.preprocessing import StandardScaler\n",
        "scaler = StandardScaler()\n",
        "X_standard = scaler.fit_transform(X)\n",
        "X_standard[0]"
      ],
      "metadata": {
        "colab": {
          "base_uri": "https://localhost:8080/"
        },
        "id": "_8i0sSvWLOK3",
        "outputId": "52b3bee8-64cc-4ce6-e5e8-319b77a291c3"
      },
      "id": "_8i0sSvWLOK3",
      "execution_count": null,
      "outputs": [
        {
          "output_type": "execute_result",
          "data": {
            "text/plain": [
              "array([-0.29877723, -0.95773012, -1.01799435,  0.08418894, -1.01840607,\n",
              "       -1.33103279, -0.75606167,  0.6512495 ,  1.08223556,  0.00817382])"
            ]
          },
          "metadata": {},
          "execution_count": 50
        }
      ]
    },
    {
      "cell_type": "markdown",
      "source": [
        "MinMax Scaler"
      ],
      "metadata": {
        "id": "VN3fowlVLcGf"
      },
      "id": "VN3fowlVLcGf"
    },
    {
      "cell_type": "code",
      "source": [
        "from sklearn.preprocessing import MinMaxScaler\n",
        "obj_norm = MinMaxScaler().fit(X)\n",
        "X_normalization = obj_norm.transform(X)\n",
        "X_normalization[0]"
      ],
      "metadata": {
        "colab": {
          "base_uri": "https://localhost:8080/"
        },
        "id": "akonB_8-LeVc",
        "outputId": "38ec4f70-c56a-4c18-a3f8-c90eebd6aebf"
      },
      "id": "akonB_8-LeVc",
      "execution_count": null,
      "outputs": [
        {
          "output_type": "execute_result",
          "data": {
            "text/plain": [
              "array([0.538     , 0.        , 0.        , 0.32432432, 0.2       ,\n",
              "       0.        , 0.        , 1.        , 1.        , 0.50673489])"
            ]
          },
          "metadata": {},
          "execution_count": 51
        }
      ]
    },
    {
      "cell_type": "markdown",
      "source": [
        "Transforming Data into Train e Test, here we will use 30% of our data to test the machine learning models."
      ],
      "metadata": {
        "id": "cOff3TzqK639"
      },
      "id": "cOff3TzqK639"
    },
    {
      "cell_type": "code",
      "source": [
        "from sklearn.model_selection import train_test_split\n",
        "X_train, X_test, y_train, y_test = train_test_split(X_normalization, y, test_size = 0.3, random_state = 0)\n",
        "X_train.shape, y_train.shape"
      ],
      "metadata": {
        "colab": {
          "base_uri": "https://localhost:8080/"
        },
        "id": "Rr5DcW8fIPew",
        "outputId": "09e1d3ee-535d-415b-9b93-ca5de4af0d77"
      },
      "id": "Rr5DcW8fIPew",
      "execution_count": null,
      "outputs": [
        {
          "output_type": "execute_result",
          "data": {
            "text/plain": [
              "((11148, 10), (11148,))"
            ]
          },
          "metadata": {},
          "execution_count": 53
        }
      ]
    },
    {
      "cell_type": "code",
      "source": [
        "X_test.shape, y_test.shape"
      ],
      "metadata": {
        "colab": {
          "base_uri": "https://localhost:8080/"
        },
        "id": "nihs7pMGLuvp",
        "outputId": "24c6ff6c-aaea-4647-fefc-7913198cd37e"
      },
      "id": "nihs7pMGLuvp",
      "execution_count": null,
      "outputs": [
        {
          "output_type": "execute_result",
          "data": {
            "text/plain": [
              "((4778, 10), (4778,))"
            ]
          },
          "metadata": {},
          "execution_count": 54
        }
      ]
    },
    {
      "cell_type": "markdown",
      "source": [
        "K Neighbors"
      ],
      "metadata": {
        "id": "Ps2rYnGrMLet"
      },
      "id": "Ps2rYnGrMLet"
    },
    {
      "cell_type": "code",
      "source": [
        "from sklearn.neighbors import KNeighborsClassifier\n",
        "knn = KNeighborsClassifier(metric = 'minkowski', p = 2)"
      ],
      "metadata": {
        "id": "Lk52Wbq5MTEB"
      },
      "id": "Lk52Wbq5MTEB",
      "execution_count": null,
      "outputs": []
    },
    {
      "cell_type": "markdown",
      "source": [
        "Here we use the GridSearch to figure out the best metrics to use in this model."
      ],
      "metadata": {
        "id": "WEs5ZO3rI8OP"
      },
      "id": "WEs5ZO3rI8OP"
    },
    {
      "cell_type": "code",
      "source": [
        "k_list = list(range(1,31))"
      ],
      "metadata": {
        "id": "9gXmkmm4I0c-"
      },
      "id": "9gXmkmm4I0c-",
      "execution_count": null,
      "outputs": []
    },
    {
      "cell_type": "code",
      "source": [
        "k_values = dict(n_neighbors = k_list)"
      ],
      "metadata": {
        "id": "qaLlo0ZIJAf6"
      },
      "id": "qaLlo0ZIJAf6",
      "execution_count": null,
      "outputs": []
    },
    {
      "cell_type": "code",
      "source": [
        "from sklearn.model_selection import GridSearchCV\n",
        "grid = GridSearchCV(knn, k_values, cv = 5, scoring = 'accuracy')\n",
        "grid.fit(X_train, y_train)\n",
        "grid.best_params_, grid.best_score_"
      ],
      "metadata": {
        "colab": {
          "base_uri": "https://localhost:8080/"
        },
        "id": "89tFClVEJDFd",
        "outputId": "1ac273d9-91cc-4187-f76c-403ca27479af"
      },
      "id": "89tFClVEJDFd",
      "execution_count": null,
      "outputs": [
        {
          "output_type": "execute_result",
          "data": {
            "text/plain": [
              "({'n_neighbors': 1}, 0.8848228106070207)"
            ]
          },
          "metadata": {},
          "execution_count": 55
        }
      ]
    },
    {
      "cell_type": "markdown",
      "source": [
        "Running K Neighbors"
      ],
      "metadata": {
        "id": "T1ODlyziMdIP"
      },
      "id": "T1ODlyziMdIP"
    },
    {
      "cell_type": "code",
      "source": [
        "knn = KNeighborsClassifier(n_neighbors = 1, metric = 'minkowski', p = 2)\n",
        "knn.fit(X_train, y_train)"
      ],
      "metadata": {
        "colab": {
          "base_uri": "https://localhost:8080/"
        },
        "id": "Go5_jBS8Mjan",
        "outputId": "7abe9f05-4b80-4f95-c9a3-5249892995ca"
      },
      "id": "Go5_jBS8Mjan",
      "execution_count": null,
      "outputs": [
        {
          "output_type": "execute_result",
          "data": {
            "text/plain": [
              "KNeighborsClassifier(n_neighbors=1)"
            ]
          },
          "metadata": {},
          "execution_count": 63
        }
      ]
    },
    {
      "cell_type": "code",
      "source": [
        "previsoes = knn.predict(X_test)"
      ],
      "metadata": {
        "id": "j4EOo4H9OS_6"
      },
      "id": "j4EOo4H9OS_6",
      "execution_count": null,
      "outputs": []
    },
    {
      "cell_type": "code",
      "source": [
        "cm = ConfusionMatrix(knn)\n",
        "cm.fit(X_train, y_train)\n",
        "cm.score(X_test, y_test)"
      ],
      "metadata": {
        "colab": {
          "base_uri": "https://localhost:8080/",
          "height": 361
        },
        "id": "5q_6LISSMq4K",
        "outputId": "fb49dc97-c0dd-4143-9fb0-a56d58514606"
      },
      "id": "5q_6LISSMq4K",
      "execution_count": null,
      "outputs": [
        {
          "output_type": "execute_result",
          "data": {
            "text/plain": [
              "0.9028882377563834"
            ]
          },
          "metadata": {},
          "execution_count": 70
        },
        {
          "output_type": "display_data",
          "data": {
            "text/plain": [
              "<Figure size 576x396 with 1 Axes>"
            ],
            "image/png": "[encoded data removed]"
          },
          "metadata": {}
        }
      ]
    },
    {
      "cell_type": "markdown",
      "source": [
        "True Positives (TP) — The  value of actual clients have not left the bank and the value of predicted class also the same = 1981\n",
        "\n",
        "True Negatives (TN) — The value of actual clients have left the bank and value of predicted class also the same = 2333\n",
        "\n"
      ],
      "metadata": {
        "id": "VZt9WodSgTdU"
      },
      "id": "VZt9WodSgTdU"
    },
    {
      "cell_type": "code",
      "source": [
        "classification_knn = (classification_report(y_test, previsoes))\n",
        "print(classification_knn)"
      ],
      "metadata": {
        "colab": {
          "base_uri": "https://localhost:8080/"
        },
        "id": "LDpM5xzZMuh8",
        "outputId": "ab4ee020-a784-45da-d540-376322dcfff5"
      },
      "id": "LDpM5xzZMuh8",
      "execution_count": null,
      "outputs": [
        {
          "output_type": "stream",
          "name": "stdout",
          "text": [
            "              precision    recall  f1-score   support\n",
            "\n",
            "           0       0.97      0.83      0.90      2384\n",
            "           1       0.85      0.97      0.91      2394\n",
            "\n",
            "    accuracy                           0.90      4778\n",
            "   macro avg       0.91      0.90      0.90      4778\n",
            "weighted avg       0.91      0.90      0.90      4778\n",
            "\n"
          ]
        }
      ]
    },
    {
      "cell_type": "markdown",
      "source": [
        "Precision: among clients that predicted to stay, the real value is 0.97.among clients that predicted to left the bank, the real value is 0.85. \n",
        "\n",
        "Recall: among real number of clients that stay, predicted to be stayed is 0.83. among real number of clients that left the bank, predicted to be left is 0.97."
      ],
      "metadata": {
        "id": "D0ixqp6_gD25"
      },
      "id": "D0ixqp6_gD25"
    }
  ],
  "metadata": {
    "kernelspec": {
      "display_name": "Python 3",
      "language": "python",
      "name": "python3"
    },
    "language_info": {
      "codemirror_mode": {
        "name": "ipython",
        "version": 3
      },
      "file_extension": ".py",
      "mimetype": "text/x-python",
      "name": "python",
      "nbconvert_exporter": "python",
      "pygments_lexer": "ipython3",
      "version": "3.7.0"
    },
    "colab": {
      "provenance": [],
      "collapsed_sections": []
    }
  },
  "nbformat": 4,
  "nbformat_minor": 5
}